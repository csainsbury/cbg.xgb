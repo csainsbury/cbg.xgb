{
 "cells": [
  {
   "cell_type": "code",
   "execution_count": 17,
   "metadata": {},
   "outputs": [],
   "source": [
    "import numpy as np\n",
    "import pandas as pd\n",
    "import xgboost as xgb"
   ]
  },
  {
   "cell_type": "code",
   "execution_count": 18,
   "metadata": {},
   "outputs": [],
   "source": [
    "# set up duration vector\n",
    "duration = [3,4,5,6,7]\n",
    "thresh = [3,4,5]\n",
    "\n",
    "date = '2023-01-20'"
   ]
  },
  {
   "cell_type": "code",
   "execution_count": 19,
   "metadata": {},
   "outputs": [],
   "source": [
    "def run_model(duration, thresh, date):\n",
    "    \n",
    "    # create empty dataframe to append to\n",
    "    df = pd.DataFrame()\n",
    "\n",
    "    for d in duration:\n",
    "        for t in thresh:\n",
    "\n",
    "            ## load data\n",
    "            load_thresh = 99\n",
    "            path = '~/Documents/data/CBGdata/single_day_xgboost_ready/' + str(date) + '_duration_' + str(d) + '_threshold_' + str(load_thresh) + 'xx.csv'\n",
    "            dt = pd.read_csv(path, index_col = False)\n",
    "\n",
    "            # load correct model for duration and threshold\n",
    "            model_xgb_2 = xgb.Booster()\n",
    "            model_xgb_2.load_model('~/Documents/code/cbg_code/unipoc_xgb_models/duration_' + str(d) + '_threshold_' + str(t) + '_ratio_all_final_model.model')\n",
    "\n",
    "            ids = dt['label']\n",
    "            X = dt.drop(['label', 'id'], axis=1)\n",
    "            \n",
    "            # use the loaded XGBoost model\n",
    "            model = model_xgb_2\n",
    "\n",
    "            # run model on data\n",
    "            y_pred_proba = model.predict(xgb.DMatrix(X))\n",
    "\n",
    "            # load appropriate threshold from .csv file\n",
    "            threshold = pd.read_csv('~/Documents/code/cbg_code/inpatient_CBG_xgb-main/unipoc_model_auroc_threshold/duration_' + str(d) + '_threshold_' + str(t) + '_ratio_all_auroc_threshold.csv', index_col = False)\n",
    "\n",
    "            threshold_to_apply = threshold['threshold'][0]\n",
    "\n",
    "            # return ids of patients with predicted probability greater than threshold\n",
    "            ids_to_return = ids[y_pred_proba >= threshold_to_apply]\n",
    "\n",
    "            # append to ids vector\n",
    "            data = pd.DataFrame({'date': date, 'duration': d, 'threshold': t, 'ids': ids_to_return})\n",
    "            df = pd.concat([df, data])\n",
    "\n",
    "    return(df)"
   ]
  },
  {
   "cell_type": "code",
   "execution_count": 26,
   "metadata": {},
   "outputs": [
    {
     "name": "stdout",
     "output_type": "stream",
     "text": [
      "          date  duration  threshold         ids\n",
      "1   2023-01-20         3          3   204506026\n",
      "4   2023-01-20         3          3   706436482\n",
      "6   2023-01-20         3          3  1008055476\n",
      "9   2023-01-20         3          3  1211480739\n",
      "11  2023-01-20         3          3  1506603270\n",
      "..         ...       ...        ...         ...\n",
      "14  2023-01-20         7          4  1807453197\n",
      "1   2023-01-20         7          5   311646549\n",
      "3   2023-01-20         7          5   504346288\n",
      "14  2023-01-20         7          5  1807453197\n",
      "19  2023-01-20         7          5  2909506088\n",
      "\n",
      "[142 rows x 4 columns]\n"
     ]
    }
   ],
   "source": [
    "review_ids = run_model([3,4,5,6,7], [3,4,5], date)\n",
    "print(review_ids)"
   ]
  },
  {
   "cell_type": "code",
   "execution_count": null,
   "metadata": {},
   "outputs": [],
   "source": []
  },
  {
   "cell_type": "code",
   "execution_count": null,
   "metadata": {},
   "outputs": [],
   "source": [
    "## load data\n",
    "#path = '~/Documents/data/CBGdata/xgboost_ready/duration_7_threshold_3_single_day.csv'\n",
    "load_thresh = 99\n",
    "path = '~/Documents/data/CBGdata/single_day_xgboost_ready/' + str(date) + '_duration_' + str(dur) + '_threshold_' + str(load_thresh) + 'xx.csv'\n",
    "\n",
    "dt = pd.read_csv(path, index_col = False)"
   ]
  },
  {
   "cell_type": "code",
   "execution_count": null,
   "metadata": {},
   "outputs": [],
   "source": [
    "# load model\n",
    "model_xgb_2 = xgb.Booster()\n",
    "model_xgb_2.load_model('~/Documents/code/cbg_code/unipoc_xgb_models/duration_' + str(dur) + '_threshold_' + str(thresh) + '_ratio_all_final_model.model')"
   ]
  },
  {
   "cell_type": "code",
   "execution_count": null,
   "metadata": {},
   "outputs": [
    {
     "data": {
      "text/html": [
       "<div>\n",
       "<style scoped>\n",
       "    .dataframe tbody tr th:only-of-type {\n",
       "        vertical-align: middle;\n",
       "    }\n",
       "\n",
       "    .dataframe tbody tr th {\n",
       "        vertical-align: top;\n",
       "    }\n",
       "\n",
       "    .dataframe thead th {\n",
       "        text-align: right;\n",
       "    }\n",
       "</style>\n",
       "<table border=\"1\" class=\"dataframe\">\n",
       "  <thead>\n",
       "    <tr style=\"text-align: right;\">\n",
       "      <th></th>\n",
       "      <th>max_by_day_1</th>\n",
       "      <th>max_by_day_2</th>\n",
       "      <th>max_by_day_3</th>\n",
       "      <th>min_by_day_1</th>\n",
       "      <th>min_by_day_2</th>\n",
       "      <th>min_by_day_3</th>\n",
       "      <th>median_by_day_1</th>\n",
       "      <th>median_by_day_2</th>\n",
       "      <th>median_by_day_3</th>\n",
       "      <th>day_N_1</th>\n",
       "      <th>...</th>\n",
       "      <th>prior_overall_min</th>\n",
       "      <th>prior_overall_max</th>\n",
       "      <th>prior_duration</th>\n",
       "      <th>prior_gradient</th>\n",
       "      <th>prior_sd_cbg</th>\n",
       "      <th>prior_mean_cbg</th>\n",
       "      <th>prior_cV</th>\n",
       "      <th>prior_N_tests</th>\n",
       "      <th>time_from_index</th>\n",
       "      <th>label</th>\n",
       "    </tr>\n",
       "  </thead>\n",
       "  <tbody>\n",
       "    <tr>\n",
       "      <th>0</th>\n",
       "      <td>5.1</td>\n",
       "      <td>13.1</td>\n",
       "      <td>NaN</td>\n",
       "      <td>4.8</td>\n",
       "      <td>6.7</td>\n",
       "      <td>NaN</td>\n",
       "      <td>4.95</td>\n",
       "      <td>7.30</td>\n",
       "      <td>NaN</td>\n",
       "      <td>2</td>\n",
       "      <td>...</td>\n",
       "      <td>4.0</td>\n",
       "      <td>27.9</td>\n",
       "      <td>3128220.0</td>\n",
       "      <td>3.971127e-07</td>\n",
       "      <td>4.577919</td>\n",
       "      <td>12.792035</td>\n",
       "      <td>0.357873</td>\n",
       "      <td>113.0</td>\n",
       "      <td>1589820.0</td>\n",
       "      <td>103376224</td>\n",
       "    </tr>\n",
       "    <tr>\n",
       "      <th>1</th>\n",
       "      <td>19.6</td>\n",
       "      <td>16.2</td>\n",
       "      <td>NaN</td>\n",
       "      <td>14.6</td>\n",
       "      <td>9.3</td>\n",
       "      <td>NaN</td>\n",
       "      <td>17.60</td>\n",
       "      <td>12.75</td>\n",
       "      <td>NaN</td>\n",
       "      <td>3</td>\n",
       "      <td>...</td>\n",
       "      <td>NaN</td>\n",
       "      <td>NaN</td>\n",
       "      <td>NaN</td>\n",
       "      <td>NaN</td>\n",
       "      <td>NaN</td>\n",
       "      <td>NaN</td>\n",
       "      <td>NaN</td>\n",
       "      <td>NaN</td>\n",
       "      <td>NaN</td>\n",
       "      <td>107636034</td>\n",
       "    </tr>\n",
       "    <tr>\n",
       "      <th>2</th>\n",
       "      <td>19.1</td>\n",
       "      <td>17.9</td>\n",
       "      <td>NaN</td>\n",
       "      <td>4.9</td>\n",
       "      <td>6.4</td>\n",
       "      <td>NaN</td>\n",
       "      <td>10.70</td>\n",
       "      <td>8.00</td>\n",
       "      <td>NaN</td>\n",
       "      <td>5</td>\n",
       "      <td>...</td>\n",
       "      <td>4.2</td>\n",
       "      <td>27.4</td>\n",
       "      <td>231300.0</td>\n",
       "      <td>3.664714e-07</td>\n",
       "      <td>6.744672</td>\n",
       "      <td>13.883333</td>\n",
       "      <td>0.485811</td>\n",
       "      <td>12.0</td>\n",
       "      <td>8857560.0</td>\n",
       "      <td>703485385</td>\n",
       "    </tr>\n",
       "    <tr>\n",
       "      <th>3</th>\n",
       "      <td>16.4</td>\n",
       "      <td>17.9</td>\n",
       "      <td>NaN</td>\n",
       "      <td>11.2</td>\n",
       "      <td>11.3</td>\n",
       "      <td>NaN</td>\n",
       "      <td>14.70</td>\n",
       "      <td>15.05</td>\n",
       "      <td>NaN</td>\n",
       "      <td>3</td>\n",
       "      <td>...</td>\n",
       "      <td>NaN</td>\n",
       "      <td>NaN</td>\n",
       "      <td>NaN</td>\n",
       "      <td>NaN</td>\n",
       "      <td>NaN</td>\n",
       "      <td>NaN</td>\n",
       "      <td>NaN</td>\n",
       "      <td>NaN</td>\n",
       "      <td>NaN</td>\n",
       "      <td>709446241</td>\n",
       "    </tr>\n",
       "  </tbody>\n",
       "</table>\n",
       "<p>4 rows × 33 columns</p>\n",
       "</div>"
      ],
      "text/plain": [
       "   max_by_day_1  max_by_day_2  max_by_day_3  min_by_day_1  min_by_day_2  \\\n",
       "0           5.1          13.1           NaN           4.8           6.7   \n",
       "1          19.6          16.2           NaN          14.6           9.3   \n",
       "2          19.1          17.9           NaN           4.9           6.4   \n",
       "3          16.4          17.9           NaN          11.2          11.3   \n",
       "\n",
       "   min_by_day_3  median_by_day_1  median_by_day_2  median_by_day_3  day_N_1  \\\n",
       "0           NaN             4.95             7.30              NaN        2   \n",
       "1           NaN            17.60            12.75              NaN        3   \n",
       "2           NaN            10.70             8.00              NaN        5   \n",
       "3           NaN            14.70            15.05              NaN        3   \n",
       "\n",
       "   ...  prior_overall_min  prior_overall_max  prior_duration  prior_gradient  \\\n",
       "0  ...                4.0               27.9       3128220.0    3.971127e-07   \n",
       "1  ...                NaN                NaN             NaN             NaN   \n",
       "2  ...                4.2               27.4        231300.0    3.664714e-07   \n",
       "3  ...                NaN                NaN             NaN             NaN   \n",
       "\n",
       "   prior_sd_cbg  prior_mean_cbg  prior_cV  prior_N_tests  time_from_index  \\\n",
       "0      4.577919       12.792035  0.357873          113.0        1589820.0   \n",
       "1           NaN             NaN       NaN            NaN              NaN   \n",
       "2      6.744672       13.883333  0.485811           12.0        8857560.0   \n",
       "3           NaN             NaN       NaN            NaN              NaN   \n",
       "\n",
       "       label  \n",
       "0  103376224  \n",
       "1  107636034  \n",
       "2  703485385  \n",
       "3  709446241  \n",
       "\n",
       "[4 rows x 33 columns]"
      ]
     },
     "execution_count": 447,
     "metadata": {},
     "output_type": "execute_result"
    }
   ],
   "source": [
    "dt"
   ]
  },
  {
   "cell_type": "code",
   "execution_count": null,
   "metadata": {},
   "outputs": [],
   "source": [
    "ids = dt['label']\n",
    "X = dt.drop(['label', 'id'], axis=1)\n",
    "# y = dt['label'] # no labels in this prospective data\n",
    "\n",
    "# use the loaded XGBoost model\n",
    "model = model_xgb_2"
   ]
  },
  {
   "cell_type": "code",
   "execution_count": null,
   "metadata": {},
   "outputs": [],
   "source": [
    "# run saved model\n",
    "y_pred_proba = model.predict(xgb.DMatrix(X))\n",
    "\n",
    "# y_true = y"
   ]
  },
  {
   "cell_type": "code",
   "execution_count": null,
   "metadata": {},
   "outputs": [
    {
     "name": "stdout",
     "output_type": "stream",
     "text": [
      "[0.5721854  0.15147565 0.434264   0.10015137]\n"
     ]
    }
   ],
   "source": [
    "print(y_pred_proba)"
   ]
  },
  {
   "cell_type": "code",
   "execution_count": null,
   "metadata": {},
   "outputs": [
    {
     "data": {
      "text/plain": [
       "0    103376224\n",
       "1    107636034\n",
       "2    703485385\n",
       "3    709446241\n",
       "Name: label, dtype: int64"
      ]
     },
     "execution_count": 451,
     "metadata": {},
     "output_type": "execute_result"
    }
   ],
   "source": [
    "ids"
   ]
  },
  {
   "cell_type": "code",
   "execution_count": null,
   "metadata": {},
   "outputs": [],
   "source": [
    "# load appropriate threshold from .csv file\n",
    "threshold = pd.read_csv('~/Documents/code/cbg_code/inpatient_CBG_xgb-main/unipoc_model_auroc_threshold/duration_' + str(dur) + '_threshold_' + str(thresh) + '_ratio_all_auroc_threshold.csv', index_col = False)"
   ]
  },
  {
   "cell_type": "code",
   "execution_count": null,
   "metadata": {},
   "outputs": [
    {
     "name": "stdout",
     "output_type": "stream",
     "text": [
      "      auroc  threshold\n",
      "0  0.810533   0.467685\n"
     ]
    }
   ],
   "source": [
    "threshold_to_apply = threshold['threshold'][0]\n",
    "print(threshold)\n"
   ]
  },
  {
   "cell_type": "code",
   "execution_count": null,
   "metadata": {},
   "outputs": [
    {
     "name": "stdout",
     "output_type": "stream",
     "text": [
      "0    103376224\n",
      "Name: label, dtype: int64\n"
     ]
    }
   ],
   "source": [
    "# return ids of patients with predicted probability greater than threshold\n",
    "ids_to_return = ids[y_pred_proba > threshold_to_apply]\n",
    "print(ids_to_return)"
   ]
  },
  {
   "cell_type": "code",
   "execution_count": null,
   "metadata": {},
   "outputs": [],
   "source": []
  }
 ],
 "metadata": {
  "kernelspec": {
   "display_name": "py39",
   "language": "python",
   "name": "python3"
  },
  "language_info": {
   "codemirror_mode": {
    "name": "ipython",
    "version": 3
   },
   "file_extension": ".py",
   "mimetype": "text/x-python",
   "name": "python",
   "nbconvert_exporter": "python",
   "pygments_lexer": "ipython3",
   "version": "3.9.16"
  },
  "orig_nbformat": 4,
  "vscode": {
   "interpreter": {
    "hash": "75cc03922cb9a18814111b26571b3fc5b85ffa14e7ff09f2b9644cbdb378296d"
   }
  }
 },
 "nbformat": 4,
 "nbformat_minor": 2
}
