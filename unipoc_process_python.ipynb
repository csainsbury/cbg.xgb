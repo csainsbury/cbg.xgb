{
 "cells": [
  {
   "attachments": {},
   "cell_type": "markdown",
   "metadata": {},
   "source": [
    "#### attempt to rewrite some of the R code for data preparation and model generation in pandas"
   ]
  },
  {
   "cell_type": "code",
   "execution_count": 1,
   "metadata": {},
   "outputs": [],
   "source": [
    "import numpy as np\n",
    "import pandas as pd\n"
   ]
  },
  {
   "cell_type": "code",
   "execution_count": 3,
   "metadata": {},
   "outputs": [],
   "source": [
    "# set variables\n",
    "interest_days_vec = [11,12,13,14]\n",
    "threshold_vec     = [3, 4, 5]\n",
    "ratio_vec         = [-99]"
   ]
  },
  {
   "cell_type": "code",
   "execution_count": 9,
   "metadata": {},
   "outputs": [],
   "source": [
    "# load data\n",
    "df = pd.read_csv('~/Documents/data/CBGdata/unipoc_raw/unipoc_basic_cleaned.csv')\n",
    "# rename loc column as location\n",
    "df = df.rename(columns={'loc':'location'})\n",
    "# convert dateTime to pandas datetime\n",
    "df['dateTime'] = pd.to_datetime(df['dateTime'])"
   ]
  },
  {
   "cell_type": "code",
   "execution_count": 52,
   "metadata": {},
   "outputs": [],
   "source": [
    "def admission_N(datetime, lockout):\n",
    "    lockout_seconds = lockout * 24 * 60 * 60\n",
    "    # order datetime\n",
    "    datetime = datetime.sort_values()\n",
    "    # find difference between datetime\n",
    "    datetime_diff = datetime.diff()\n",
    "    # flag if difference is greater than lockout in seconds\n",
    "    datetime_diff_flag = datetime_diff > pd.Timedelta(lockout_seconds, unit='s')\n",
    "    # sum datetime_diff_flag\n",
    "    datetime_diff_flag_sum = datetime_diff_flag.cumsum()\n",
    "\n",
    "    return(datetime_diff_flag_sum + 1)"
   ]
  },
  {
   "cell_type": "code",
   "execution_count": null,
   "metadata": {},
   "outputs": [],
   "source": [
    "# prepare aegis function rewrite\n",
    "def prepare_aegis(data, k, prediction_run):\n",
    "    "
   ]
  },
  {
   "cell_type": "code",
   "execution_count": 53,
   "metadata": {},
   "outputs": [
    {
     "ename": "NameError",
     "evalue": "name 'dateTime' is not defined",
     "output_type": "error",
     "traceback": [
      "\u001b[0;31m---------------------------------------------------------------------------\u001b[0m",
      "\u001b[0;31mNameError\u001b[0m                                 Traceback (most recent call last)",
      "Cell \u001b[0;32mIn[53], line 14\u001b[0m\n\u001b[1;32m     10\u001b[0m lockout_period \u001b[39m=\u001b[39m \u001b[39m7\u001b[39m\n\u001b[1;32m     13\u001b[0m \u001b[39m# apply the function admission_N by uID passing dateTime and lockout_period\u001b[39;00m\n\u001b[0;32m---> 14\u001b[0m m[\u001b[39m'\u001b[39m\u001b[39mn_admissions\u001b[39m\u001b[39m'\u001b[39m] \u001b[39m=\u001b[39m m\u001b[39m.\u001b[39mgroupby(\u001b[39m'\u001b[39m\u001b[39muID\u001b[39m\u001b[39m'\u001b[39m)\u001b[39m.\u001b[39mapply(admission_N(dateTime, lockout_period))\n",
      "\u001b[0;31mNameError\u001b[0m: name 'dateTime' is not defined"
     ]
    }
   ],
   "source": [
    "# prepare aegis cell to write function\n",
    "data = df.copy()\n",
    "k = 3\n",
    "\n",
    "m = data\n",
    "# order m by uID and dateTime\n",
    "m = m.sort_values(by=['uID','dateTime'])\n",
    "\n",
    "# set lockout period\n",
    "lockout_period = 7\n",
    "\n",
    "\n",
    "# apply the function admission_N by uID passing dateTime and lockout_period\n",
    "m['n_admissions'] = m.groupby('uID').apply(admission_N(dateTime, lockout_period))"
   ]
  },
  {
   "cell_type": "code",
   "execution_count": null,
   "metadata": {},
   "outputs": [
    {
     "data": {
      "text/plain": [
       "uID                     206302667.0\n",
       "datetime        02/01/2013  4:00AM \n",
       "Glu                             5.6\n",
       "location                       RITU\n",
       "dateTime        2013-01-02 04:00:00\n",
       "n_admissions                      1\n",
       "Name: 1, dtype: object"
      ]
     },
     "execution_count": 44,
     "metadata": {},
     "output_type": "execute_result"
    }
   ],
   "source": [
    "m['n_admissions'].max()\n"
   ]
  },
  {
   "cell_type": "code",
   "execution_count": 11,
   "metadata": {},
   "outputs": [
    {
     "name": "stdout",
     "output_type": "stream",
     "text": [
      "(17057, 75)\n",
      "432\n"
     ]
    }
   ],
   "source": [
    "duration_num = 10\n",
    "thresh_num = 3\n",
    "ratio_num = 'all'\n",
    "path = '~/Documents/data/CBGdata/unipoc_xgboost_ready/duration_' + str(duration_num) + '_threshold_' + str(thresh_num) + '_ratio_' + str(ratio_num) + '.csv'\n",
    "dt = pd.read_csv(path, index_col = False)\n",
    "print(dt.shape)\n",
    "print(dt['label'].sum())\n"
   ]
  }
 ],
 "metadata": {
  "kernelspec": {
   "display_name": "py39",
   "language": "python",
   "name": "python3"
  },
  "language_info": {
   "codemirror_mode": {
    "name": "ipython",
    "version": 3
   },
   "file_extension": ".py",
   "mimetype": "text/x-python",
   "name": "python",
   "nbconvert_exporter": "python",
   "pygments_lexer": "ipython3",
   "version": "3.9.16"
  },
  "orig_nbformat": 4,
  "vscode": {
   "interpreter": {
    "hash": "75cc03922cb9a18814111b26571b3fc5b85ffa14e7ff09f2b9644cbdb378296d"
   }
  }
 },
 "nbformat": 4,
 "nbformat_minor": 2
}
